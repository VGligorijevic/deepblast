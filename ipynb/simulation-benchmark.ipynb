{
 "cells": [
  {
   "cell_type": "markdown",
   "metadata": {},
   "source": [
    "Here we will show an example of how to run deepblast on simulation data."
   ]
  },
  {
   "cell_type": "code",
   "execution_count": 1,
   "metadata": {},
   "outputs": [],
   "source": [
    "import os\n",
    "from deepblast.sim import hmm_alignments\n",
    "import argparse\n",
    "import numpy as np"
   ]
  },
  {
   "cell_type": "markdown",
   "metadata": {},
   "source": [
    "We will first simulate multiple sequences from a single PFam family.\n",
    "The resulting generated alignments will be used to train the model."
   ]
  },
  {
   "cell_type": "code",
   "execution_count": 2,
   "metadata": {},
   "outputs": [],
   "source": [
    "hmm = '../data/zf-C2H2.hmm'\n",
    "n_alignments = 200\n",
    "np.random.seed(0)\n",
    "align_df = hmm_alignments(n=40, seed=0, n_alignments=n_alignments, hmmfile=hmm)\n",
    "\n",
    "cols = [\n",
    "    'chain1_name', 'chain2_name', 'tmscore1', 'tmscore2', 'rmsd',\n",
    "    'chain1', 'chain2', 'alignment'\n",
    "]\n",
    "align_df.columns = cols"
   ]
  },
  {
   "cell_type": "markdown",
   "metadata": {},
   "source": [
    "The simulated alignments will be split into training / testing and validation."
   ]
  },
  {
   "cell_type": "code",
   "execution_count": 3,
   "metadata": {},
   "outputs": [],
   "source": [
    "parts = n_alignments // 10\n",
    "train_df = align_df.iloc[:parts * 8]\n",
    "test_df = align_df.iloc[parts * 8:parts * 9]\n",
    "valid_df = align_df.iloc[parts * 9:]\n",
    "\n",
    "# save the files to disk.\n",
    "train_df.to_csv('data/train.txt', sep='\\t', index=None, header=None)\n",
    "test_df.to_csv('data/test.txt', sep='\\t', index=None, header=None)\n",
    "valid_df.to_csv('data/valid.txt', sep='\\t', index=None, header=None)"
   ]
  },
  {
   "cell_type": "markdown",
   "metadata": {},
   "source": [
    "We will prepare the environment to make sure that the appropriate output directories exist to store the results."
   ]
  },
  {
   "cell_type": "code",
   "execution_count": 4,
   "metadata": {},
   "outputs": [],
   "source": [
    "from deepblast.trainer import LightningAligner\n",
    "from pytorch_lightning import Trainer\n",
    "\n",
    "output_dir = 'simulation_results'\n",
    "if not os.path.exists(output_dir):\n",
    "    os.mkdir(output_dir)"
   ]
  },
  {
   "cell_type": "code",
   "execution_count": 5,
   "metadata": {},
   "outputs": [
    {
     "data": {
      "text/plain": [
       "'/home/juermieboop/Documents/research/garfunkel/ipynb'"
      ]
     },
     "execution_count": 5,
     "metadata": {},
     "output_type": "execute_result"
    }
   ],
   "source": [
    "os.getcwd()"
   ]
  },
  {
   "cell_type": "markdown",
   "metadata": {},
   "source": [
    "We will now create the arguments.  Below is the way to create this in a python environment.\n",
    "This can also be recreated on a standard command line interface."
   ]
  },
  {
   "cell_type": "code",
   "execution_count": 6,
   "metadata": {},
   "outputs": [],
   "source": [
    "args = [\n",
    "    '--train-pairs', f'{os.getcwd()}/data/train.txt',\n",
    "    '--test-pairs', f'{os.getcwd()}/data/test.txt',\n",
    "    '--valid-pairs', f'{os.getcwd()}/data/valid.txt',\n",
    "    '--output-directory', output_dir,\n",
    "    '--epochs', '32',\n",
    "    '--batch-size', '5',   \n",
    "    '--num-workers', '30',\n",
    "    '--learning-rate', '1e-4',\n",
    "    '--layers', '2',\n",
    "    '--visualization-fraction', '1',\n",
    "    '--loss', 'cross_entropy',\n",
<<<<<<< HEAD
    "    '--scheduler', 'none',\n",
    "    '--gpus', '1']\n",
=======
    "    '--scheduler', 'cosine',\n",
    "    '--gpus', '1'\n",
    "]\n",
>>>>>>> 7d0a30faa882873d4179ed2efd66d52844f2ef0a
    "parser = argparse.ArgumentParser(add_help=False)\n",
    "parser = LightningAligner.add_model_specific_args(parser)\n",
    "parser.add_argument('--num-workers', type=int)\n",
    "parser.add_argument('--gpus', type=int)\n",
    "args = parser.parse_args(args)"
   ]
  },
  {
   "cell_type": "code",
   "execution_count": 7,
   "metadata": {},
   "outputs": [
    {
     "name": "stderr",
     "output_type": "stream",
     "text": [
      "No traceback available to show.\n"
     ]
    }
   ],
   "source": [
    "%tb"
   ]
  },
  {
   "cell_type": "markdown",
   "metadata": {},
   "source": [
    "We will then initialize the alignment model with the parameters we specified earlier."
   ]
  },
  {
   "cell_type": "code",
   "execution_count": 8,
   "metadata": {},
   "outputs": [],
   "source": [
    "model = LightningAligner(args)"
   ]
  },
  {
   "cell_type": "markdown",
   "metadata": {},
   "source": [
    "We can now train the model."
   ]
  },
  {
   "cell_type": "code",
   "execution_count": 9,
   "metadata": {
    "scrolled": false
   },
   "outputs": [
    {
     "name": "stderr",
     "output_type": "stream",
     "text": [
      "GPU available: True, used: True\n",
      "TPU available: False, using: 0 TPU cores\n",
      "CUDA_VISIBLE_DEVICES: [0]\n",
      "/home/juermieboop/miniconda3/envs/pytorch/lib/python3.8/site-packages/pytorch_lightning/utilities/distributed.py:37: UserWarning: Could not log computational graph since the `model.example_input_array` attribute is not set or `input_array` was not given\n",
      "  warnings.warn(*args, **kwargs)\n",
      "\n",
      "  | Name    | Type                   | Params\n",
      "---------------------------------------------------\n",
      "0 | aligner | NeedlemanWunschAligner | 34 M  \n"
     ]
    },
    {
     "data": {
      "application/vnd.jupyter.widget-view+json": {
       "model_id": "",
       "version_major": 2,
       "version_minor": 0
      },
      "text/plain": [
       "HBox(children=(FloatProgress(value=1.0, bar_style='info', description='Validation sanity check', layout=Layout…"
      ]
     },
     "metadata": {},
     "output_type": "display_data"
    },
    {
     "data": {
      "application/vnd.jupyter.widget-view+json": {
<<<<<<< HEAD
       "model_id": "fdb9f37a1e1140b9bdbea50e86986845",
=======
       "model_id": "97a596bf832c45fb96c1aa555892ee51",
>>>>>>> 7d0a30faa882873d4179ed2efd66d52844f2ef0a
       "version_major": 2,
       "version_minor": 0
      },
      "text/plain": [
       "HBox(children=(FloatProgress(value=1.0, bar_style='info', description='Training', layout=Layout(flex='2'), max…"
      ]
     },
     "metadata": {},
     "output_type": "display_data"
    },
    {
     "data": {
      "application/vnd.jupyter.widget-view+json": {
       "model_id": "",
       "version_major": 2,
       "version_minor": 0
      },
      "text/plain": [
       "HBox(children=(FloatProgress(value=1.0, bar_style='info', description='Validating', layout=Layout(flex='2'), m…"
      ]
     },
     "metadata": {},
     "output_type": "display_data"
    },
    {
     "data": {
      "application/vnd.jupyter.widget-view+json": {
       "model_id": "",
       "version_major": 2,
       "version_minor": 0
      },
      "text/plain": [
       "HBox(children=(FloatProgress(value=1.0, bar_style='info', description='Validating', layout=Layout(flex='2'), m…"
      ]
     },
     "metadata": {},
     "output_type": "display_data"
    },
    {
     "data": {
      "application/vnd.jupyter.widget-view+json": {
       "model_id": "",
       "version_major": 2,
       "version_minor": 0
      },
      "text/plain": [
       "HBox(children=(FloatProgress(value=1.0, bar_style='info', description='Validating', layout=Layout(flex='2'), m…"
      ]
     },
     "metadata": {},
     "output_type": "display_data"
    },
    {
<<<<<<< HEAD
=======
     "data": {
      "application/vnd.jupyter.widget-view+json": {
       "model_id": "",
       "version_major": 2,
       "version_minor": 0
      },
      "text/plain": [
       "HBox(children=(FloatProgress(value=1.0, bar_style='info', description='Validating', layout=Layout(flex='2'), m…"
      ]
     },
     "metadata": {},
     "output_type": "display_data"
    },
    {
     "data": {
      "application/vnd.jupyter.widget-view+json": {
       "model_id": "",
       "version_major": 2,
       "version_minor": 0
      },
      "text/plain": [
       "HBox(children=(FloatProgress(value=1.0, bar_style='info', description='Validating', layout=Layout(flex='2'), m…"
      ]
     },
     "metadata": {},
     "output_type": "display_data"
    },
    {
     "data": {
      "application/vnd.jupyter.widget-view+json": {
       "model_id": "",
       "version_major": 2,
       "version_minor": 0
      },
      "text/plain": [
       "HBox(children=(FloatProgress(value=1.0, bar_style='info', description='Validating', layout=Layout(flex='2'), m…"
      ]
     },
     "metadata": {},
     "output_type": "display_data"
    },
    {
     "data": {
      "application/vnd.jupyter.widget-view+json": {
       "model_id": "",
       "version_major": 2,
       "version_minor": 0
      },
      "text/plain": [
       "HBox(children=(FloatProgress(value=1.0, bar_style='info', description='Validating', layout=Layout(flex='2'), m…"
      ]
     },
     "metadata": {},
     "output_type": "display_data"
    },
    {
     "data": {
      "application/vnd.jupyter.widget-view+json": {
       "model_id": "",
       "version_major": 2,
       "version_minor": 0
      },
      "text/plain": [
       "HBox(children=(FloatProgress(value=1.0, bar_style='info', description='Validating', layout=Layout(flex='2'), m…"
      ]
     },
     "metadata": {},
     "output_type": "display_data"
    },
    {
     "data": {
      "application/vnd.jupyter.widget-view+json": {
       "model_id": "",
       "version_major": 2,
       "version_minor": 0
      },
      "text/plain": [
       "HBox(children=(FloatProgress(value=1.0, bar_style='info', description='Validating', layout=Layout(flex='2'), m…"
      ]
     },
     "metadata": {},
     "output_type": "display_data"
    },
    {
     "data": {
      "application/vnd.jupyter.widget-view+json": {
       "model_id": "",
       "version_major": 2,
       "version_minor": 0
      },
      "text/plain": [
       "HBox(children=(FloatProgress(value=1.0, bar_style='info', description='Validating', layout=Layout(flex='2'), m…"
      ]
     },
     "metadata": {},
     "output_type": "display_data"
    },
    {
     "data": {
      "application/vnd.jupyter.widget-view+json": {
       "model_id": "",
       "version_major": 2,
       "version_minor": 0
      },
      "text/plain": [
       "HBox(children=(FloatProgress(value=1.0, bar_style='info', description='Validating', layout=Layout(flex='2'), m…"
      ]
     },
     "metadata": {},
     "output_type": "display_data"
    },
    {
     "data": {
      "application/vnd.jupyter.widget-view+json": {
       "model_id": "",
       "version_major": 2,
       "version_minor": 0
      },
      "text/plain": [
       "HBox(children=(FloatProgress(value=1.0, bar_style='info', description='Validating', layout=Layout(flex='2'), m…"
      ]
     },
     "metadata": {},
     "output_type": "display_data"
    },
    {
     "data": {
      "application/vnd.jupyter.widget-view+json": {
       "model_id": "",
       "version_major": 2,
       "version_minor": 0
      },
      "text/plain": [
       "HBox(children=(FloatProgress(value=1.0, bar_style='info', description='Validating', layout=Layout(flex='2'), m…"
      ]
     },
     "metadata": {},
     "output_type": "display_data"
    },
    {
     "data": {
      "application/vnd.jupyter.widget-view+json": {
       "model_id": "",
       "version_major": 2,
       "version_minor": 0
      },
      "text/plain": [
       "HBox(children=(FloatProgress(value=1.0, bar_style='info', description='Validating', layout=Layout(flex='2'), m…"
      ]
     },
     "metadata": {},
     "output_type": "display_data"
    },
    {
     "data": {
      "application/vnd.jupyter.widget-view+json": {
       "model_id": "",
       "version_major": 2,
       "version_minor": 0
      },
      "text/plain": [
       "HBox(children=(FloatProgress(value=1.0, bar_style='info', description='Validating', layout=Layout(flex='2'), m…"
      ]
     },
     "metadata": {},
     "output_type": "display_data"
    },
    {
     "data": {
      "application/vnd.jupyter.widget-view+json": {
       "model_id": "",
       "version_major": 2,
       "version_minor": 0
      },
      "text/plain": [
       "HBox(children=(FloatProgress(value=1.0, bar_style='info', description='Validating', layout=Layout(flex='2'), m…"
      ]
     },
     "metadata": {},
     "output_type": "display_data"
    },
    {
     "data": {
      "application/vnd.jupyter.widget-view+json": {
       "model_id": "",
       "version_major": 2,
       "version_minor": 0
      },
      "text/plain": [
       "HBox(children=(FloatProgress(value=1.0, bar_style='info', description='Validating', layout=Layout(flex='2'), m…"
      ]
     },
     "metadata": {},
     "output_type": "display_data"
    },
    {
     "data": {
      "application/vnd.jupyter.widget-view+json": {
       "model_id": "",
       "version_major": 2,
       "version_minor": 0
      },
      "text/plain": [
       "HBox(children=(FloatProgress(value=1.0, bar_style='info', description='Validating', layout=Layout(flex='2'), m…"
      ]
     },
     "metadata": {},
     "output_type": "display_data"
    },
    {
     "data": {
      "application/vnd.jupyter.widget-view+json": {
       "model_id": "",
       "version_major": 2,
       "version_minor": 0
      },
      "text/plain": [
       "HBox(children=(FloatProgress(value=1.0, bar_style='info', description='Validating', layout=Layout(flex='2'), m…"
      ]
     },
     "metadata": {},
     "output_type": "display_data"
    },
    {
     "data": {
      "application/vnd.jupyter.widget-view+json": {
       "model_id": "",
       "version_major": 2,
       "version_minor": 0
      },
      "text/plain": [
       "HBox(children=(FloatProgress(value=1.0, bar_style='info', description='Validating', layout=Layout(flex='2'), m…"
      ]
     },
     "metadata": {},
     "output_type": "display_data"
    },
    {
     "data": {
      "application/vnd.jupyter.widget-view+json": {
       "model_id": "",
       "version_major": 2,
       "version_minor": 0
      },
      "text/plain": [
       "HBox(children=(FloatProgress(value=1.0, bar_style='info', description='Validating', layout=Layout(flex='2'), m…"
      ]
     },
     "metadata": {},
     "output_type": "display_data"
    },
    {
     "data": {
      "application/vnd.jupyter.widget-view+json": {
       "model_id": "",
       "version_major": 2,
       "version_minor": 0
      },
      "text/plain": [
       "HBox(children=(FloatProgress(value=1.0, bar_style='info', description='Validating', layout=Layout(flex='2'), m…"
      ]
     },
     "metadata": {},
     "output_type": "display_data"
    },
    {
     "data": {
      "application/vnd.jupyter.widget-view+json": {
       "model_id": "",
       "version_major": 2,
       "version_minor": 0
      },
      "text/plain": [
       "HBox(children=(FloatProgress(value=1.0, bar_style='info', description='Validating', layout=Layout(flex='2'), m…"
      ]
     },
     "metadata": {},
     "output_type": "display_data"
    },
    {
     "data": {
      "application/vnd.jupyter.widget-view+json": {
       "model_id": "",
       "version_major": 2,
       "version_minor": 0
      },
      "text/plain": [
       "HBox(children=(FloatProgress(value=1.0, bar_style='info', description='Validating', layout=Layout(flex='2'), m…"
      ]
     },
     "metadata": {},
     "output_type": "display_data"
    },
    {
     "data": {
      "application/vnd.jupyter.widget-view+json": {
       "model_id": "",
       "version_major": 2,
       "version_minor": 0
      },
      "text/plain": [
       "HBox(children=(FloatProgress(value=1.0, bar_style='info', description='Validating', layout=Layout(flex='2'), m…"
      ]
     },
     "metadata": {},
     "output_type": "display_data"
    },
    {
     "data": {
      "application/vnd.jupyter.widget-view+json": {
       "model_id": "",
       "version_major": 2,
       "version_minor": 0
      },
      "text/plain": [
       "HBox(children=(FloatProgress(value=1.0, bar_style='info', description='Validating', layout=Layout(flex='2'), m…"
      ]
     },
     "metadata": {},
     "output_type": "display_data"
    },
    {
     "data": {
      "application/vnd.jupyter.widget-view+json": {
       "model_id": "",
       "version_major": 2,
       "version_minor": 0
      },
      "text/plain": [
       "HBox(children=(FloatProgress(value=1.0, bar_style='info', description='Validating', layout=Layout(flex='2'), m…"
      ]
     },
     "metadata": {},
     "output_type": "display_data"
    },
    {
     "data": {
      "application/vnd.jupyter.widget-view+json": {
       "model_id": "",
       "version_major": 2,
       "version_minor": 0
      },
      "text/plain": [
       "HBox(children=(FloatProgress(value=1.0, bar_style='info', description='Validating', layout=Layout(flex='2'), m…"
      ]
     },
     "metadata": {},
     "output_type": "display_data"
    },
    {
     "data": {
      "application/vnd.jupyter.widget-view+json": {
       "model_id": "",
       "version_major": 2,
       "version_minor": 0
      },
      "text/plain": [
       "HBox(children=(FloatProgress(value=1.0, bar_style='info', description='Validating', layout=Layout(flex='2'), m…"
      ]
     },
     "metadata": {},
     "output_type": "display_data"
    },
    {
     "data": {
      "application/vnd.jupyter.widget-view+json": {
       "model_id": "",
       "version_major": 2,
       "version_minor": 0
      },
      "text/plain": [
       "HBox(children=(FloatProgress(value=1.0, bar_style='info', description='Validating', layout=Layout(flex='2'), m…"
      ]
     },
     "metadata": {},
     "output_type": "display_data"
    },
    {
     "data": {
      "application/vnd.jupyter.widget-view+json": {
       "model_id": "",
       "version_major": 2,
       "version_minor": 0
      },
      "text/plain": [
       "HBox(children=(FloatProgress(value=1.0, bar_style='info', description='Validating', layout=Layout(flex='2'), m…"
      ]
     },
     "metadata": {},
     "output_type": "display_data"
    },
    {
     "data": {
      "application/vnd.jupyter.widget-view+json": {
       "model_id": "",
       "version_major": 2,
       "version_minor": 0
      },
      "text/plain": [
       "HBox(children=(FloatProgress(value=1.0, bar_style='info', description='Validating', layout=Layout(flex='2'), m…"
      ]
     },
     "metadata": {},
     "output_type": "display_data"
    },
    {
>>>>>>> 7d0a30faa882873d4179ed2efd66d52844f2ef0a
     "name": "stderr",
     "output_type": "stream",
     "text": [
      "Saving latest checkpoint..\n"
     ]
    },
    {
     "name": "stdout",
     "output_type": "stream",
     "text": [
      "\n"
     ]
    },
    {
     "data": {
      "text/plain": [
       "1"
      ]
     },
     "execution_count": 9,
     "metadata": {},
     "output_type": "execute_result"
    }
   ],
   "source": [
    "trainer = Trainer(\n",
    "    max_epochs=args.epochs,\n",
    "    gpus=args.gpus,\n",
    "    check_val_every_n_epoch=1,\n",
    "    # profiler=profiler,\n",
    "    fast_dev_run=False,\n",
    "    # auto_scale_batch_size='power'\n",
    ")\n",
    "\n",
    "trainer.fit(model)"
   ]
  },
  {
   "cell_type": "code",
   "execution_count": 10,
   "metadata": {},
   "outputs": [
    {
     "data": {
      "text/plain": [
       "'0.9.0'"
      ]
     },
     "execution_count": 10,
     "metadata": {},
     "output_type": "execute_result"
    }
   ],
   "source": [
    "import pytorch_lightning\n",
    "pytorch_lightning.__version__"
   ]
  },
  {
   "cell_type": "code",
   "execution_count": 11,
   "metadata": {},
   "outputs": [
    {
     "name": "stderr",
     "output_type": "stream",
     "text": [
      "/home/juermieboop/miniconda3/envs/pytorch/lib/python3.8/site-packages/pytorch_lightning/utilities/distributed.py:37: UserWarning: Could not log computational graph since the `model.example_input_array` attribute is not set or `input_array` was not given\n",
      "  warnings.warn(*args, **kwargs)\n"
     ]
    },
    {
     "data": {
      "application/vnd.jupyter.widget-view+json": {
       "model_id": "67d42ab7eda74ccebe97b9a828157e08",
       "version_major": 2,
       "version_minor": 0
      },
      "text/plain": [
       "HBox(children=(FloatProgress(value=1.0, bar_style='info', description='Testing', layout=Layout(flex='2'), max=…"
      ]
     },
     "metadata": {},
     "output_type": "display_data"
    },
    {
     "name": "stdout",
     "output_type": "stream",
     "text": [
      "--------------------------------------------------------------------------------\n",
      "DATALOADER:0 TEST RESULTS\n",
      "{'key_name': 0    ZF-C2H2-SAMPLE18\n",
      "1     ZF-C2H2-SAMPLE9\n",
      "2    ZF-C2H2-SAMPLE36\n",
      "3    ZF-C2H2-SAMPLE23\n",
      "4     ZF-C2H2-SAMPLE5\n",
      "Name: key_name, dtype: object,\n",
      " 'query_name': 0    ZF-C2H2-SAMPLE18\n",
      "1     ZF-C2H2-SAMPLE1\n",
      "2    ZF-C2H2-SAMPLE11\n",
      "3     ZF-C2H2-SAMPLE4\n",
      "4    ZF-C2H2-SAMPLE23\n",
      "Name: query_name, dtype: object,\n",
      " 'test_fdr': 0    0.000000\n",
      "1    0.040000\n",
      "2    0.000000\n",
      "3    0.172414\n",
      "4    0.206897\n",
      "Name: test_fdr, dtype: float64,\n",
      " 'test_fn': 0    0\n",
      "1    1\n",
      "2    0\n",
      "3    5\n",
      "4    6\n",
      "Name: test_fn, dtype: int64,\n",
      " 'test_fnr': 0    0.000000\n",
      "1    0.040000\n",
      "2    0.000000\n",
      "3    0.172414\n",
      "4    0.206897\n",
      "Name: test_fnr, dtype: float64,\n",
      " 'test_fp': 0    0\n",
      "1    1\n",
      "2    0\n",
      "3    5\n",
      "4    6\n",
      "Name: test_fp, dtype: int64,\n",
      " 'test_perc_id': 0    1.000000\n",
      "1    0.960000\n",
      "2    1.000000\n",
      "3    0.827586\n",
      "4    0.793103\n",
      "Name: test_perc_id, dtype: float64,\n",
      " 'test_ppv': 0    1.000000\n",
      "1    0.960000\n",
      "2    1.000000\n",
      "3    0.827586\n",
      "4    0.793103\n",
      "Name: test_ppv, dtype: float64,\n",
      " 'test_tp': 0    24\n",
      "1    24\n",
      "2    23\n",
      "3    24\n",
      "4    23\n",
      "Name: test_tp, dtype: int64}\n",
      "--------------------------------------------------------------------------------\n",
      "DATALOADER:1 TEST RESULTS\n",
      "{'key_name': 0     ZF-C2H2-SAMPLE2\n",
      "1    ZF-C2H2-SAMPLE20\n",
      "2    ZF-C2H2-SAMPLE35\n",
      "3    ZF-C2H2-SAMPLE28\n",
      "4    ZF-C2H2-SAMPLE30\n",
      "Name: key_name, dtype: object,\n",
      " 'query_name': 0     ZF-C2H2-SAMPLE8\n",
      "1     ZF-C2H2-SAMPLE6\n",
      "2    ZF-C2H2-SAMPLE15\n",
      "3     ZF-C2H2-SAMPLE3\n",
      "4    ZF-C2H2-SAMPLE10\n",
      "Name: query_name, dtype: object,\n",
      " 'test_fdr': 0    0.038462\n",
      "1    0.076923\n",
      "2    0.148148\n",
      "3    0.000000\n",
      "4    0.000000\n",
      "Name: test_fdr, dtype: float64,\n",
      " 'test_fn': 0    1\n",
      "1    2\n",
      "2    1\n",
      "3    0\n",
      "4    0\n",
      "Name: test_fn, dtype: int64,\n",
      " 'test_fnr': 0    0.038462\n",
      "1    0.076923\n",
      "2    0.041667\n",
      "3    0.000000\n",
      "4    0.000000\n",
      "Name: test_fnr, dtype: float64,\n",
      " 'test_fp': 0    1\n",
      "1    2\n",
      "2    4\n",
      "3    0\n",
      "4    0\n",
      "Name: test_fp, dtype: int64,\n",
      " 'test_perc_id': 0    0.961538\n",
      "1    0.923077\n",
      "2    0.958333\n",
      "3    1.000000\n",
      "4    1.000000\n",
      "Name: test_perc_id, dtype: float64,\n",
      " 'test_ppv': 0    0.961538\n",
      "1    0.923077\n",
      "2    0.851852\n",
      "3    1.000000\n",
      "4    1.000000\n",
      "Name: test_ppv, dtype: float64,\n",
      " 'test_tp': 0    25\n",
      "1    24\n",
      "2    23\n",
      "3    24\n",
      "4    25\n",
      "Name: test_tp, dtype: int64}\n",
      "--------------------------------------------------------------------------------\n",
      "DATALOADER:2 TEST RESULTS\n",
      "{'key_name': 0    ZF-C2H2-SAMPLE29\n",
      "1    ZF-C2H2-SAMPLE35\n",
      "2    ZF-C2H2-SAMPLE22\n",
      "3    ZF-C2H2-SAMPLE26\n",
      "4     ZF-C2H2-SAMPLE7\n",
      "Name: key_name, dtype: object,\n",
      " 'query_name': 0    ZF-C2H2-SAMPLE10\n",
      "1    ZF-C2H2-SAMPLE14\n",
      "2     ZF-C2H2-SAMPLE7\n",
      "3    ZF-C2H2-SAMPLE34\n",
      "4    ZF-C2H2-SAMPLE12\n",
      "Name: query_name, dtype: object,\n",
      " 'test_fdr': 0    0.038462\n",
      "1    0.000000\n",
      "2    0.041667\n",
      "3    0.074074\n",
      "4    0.040000\n",
      "Name: test_fdr, dtype: float64,\n",
      " 'test_fn': 0    1\n",
      "1    0\n",
      "2    1\n",
      "3    2\n",
      "4    1\n",
      "Name: test_fn, dtype: int64,\n",
      " 'test_fnr': 0    0.038462\n",
      "1    0.000000\n",
      "2    0.041667\n",
      "3    0.074074\n",
      "4    0.040000\n",
      "Name: test_fnr, dtype: float64,\n",
      " 'test_fp': 0    1\n",
      "1    0\n",
      "2    1\n",
      "3    2\n",
      "4    1\n",
      "Name: test_fp, dtype: int64,\n",
      " 'test_perc_id': 0    0.961538\n",
      "1    1.000000\n",
      "2    0.958333\n",
      "3    0.925926\n",
      "4    0.960000\n",
      "Name: test_perc_id, dtype: float64,\n",
      " 'test_ppv': 0    0.961538\n",
      "1    1.000000\n",
      "2    0.958333\n",
      "3    0.925926\n",
      "4    0.960000\n",
      "Name: test_ppv, dtype: float64,\n",
      " 'test_tp': 0    25\n",
      "1    24\n",
      "2    23\n",
      "3    25\n",
      "4    24\n",
      "Name: test_tp, dtype: int64}\n",
      "--------------------------------------------------------------------------------\n",
      "DATALOADER:3 TEST RESULTS\n",
      "{'key_name': 0    ZF-C2H2-SAMPLE32\n",
      "1    ZF-C2H2-SAMPLE22\n",
      "2    ZF-C2H2-SAMPLE17\n",
      "3     ZF-C2H2-SAMPLE2\n",
      "4     ZF-C2H2-SAMPLE9\n",
      "Name: key_name, dtype: object,\n",
      " 'query_name': 0    ZF-C2H2-SAMPLE36\n",
      "1    ZF-C2H2-SAMPLE17\n",
      "2    ZF-C2H2-SAMPLE10\n",
      "3    ZF-C2H2-SAMPLE26\n",
      "4    ZF-C2H2-SAMPLE24\n",
      "Name: query_name, dtype: object,\n",
      " 'test_fdr': 0    0.038462\n",
      "1    0.000000\n",
      "2    0.040000\n",
      "3    0.037037\n",
      "4    0.161290\n",
      "Name: test_fdr, dtype: float64,\n",
      " 'test_fn': 0    1\n",
      "1    0\n",
      "2    1\n",
      "3    1\n",
      "4    4\n",
      "Name: test_fn, dtype: int64,\n",
      " 'test_fnr': 0    0.038462\n",
      "1    0.000000\n",
      "2    0.040000\n",
      "3    0.037037\n",
      "4    0.133333\n",
      "Name: test_fnr, dtype: float64,\n",
      " 'test_fp': 0    1\n",
      "1    0\n",
      "2    1\n",
      "3    1\n",
      "4    5\n",
      "Name: test_fp, dtype: int64,\n",
      " 'test_perc_id': 0    0.961538\n",
      "1    1.000000\n",
      "2    0.960000\n",
      "3    0.962963\n",
      "4    0.866667\n",
      "Name: test_perc_id, dtype: float64,\n",
      " 'test_ppv': 0    0.961538\n",
      "1    1.000000\n",
      "2    0.960000\n",
      "3    0.962963\n",
      "4    0.838710\n",
      "Name: test_ppv, dtype: float64,\n",
      " 'test_tp': 0    25\n",
      "1    23\n",
      "2    24\n",
      "3    26\n",
      "4    26\n",
      "Name: test_tp, dtype: int64}\n",
      "--------------------------------------------------------------------------------\n",
      "\n"
     ]
    }
   ],
   "source": [
    "res = trainer.test()"
   ]
  },
  {
   "cell_type": "code",
   "execution_count": 12,
   "metadata": {},
   "outputs": [
    {
     "data": {
      "text/plain": [
       "4"
      ]
     },
     "execution_count": 12,
     "metadata": {},
     "output_type": "execute_result"
    }
   ],
   "source": [
    "len(res)"
   ]
  },
  {
   "cell_type": "code",
   "execution_count": 13,
   "metadata": {},
   "outputs": [
    {
     "data": {
      "text/html": [
       "<div>\n",
       "<style scoped>\n",
       "    .dataframe tbody tr th:only-of-type {\n",
       "        vertical-align: middle;\n",
       "    }\n",
       "\n",
       "    .dataframe tbody tr th {\n",
       "        vertical-align: top;\n",
       "    }\n",
       "\n",
       "    .dataframe thead th {\n",
       "        text-align: right;\n",
       "    }\n",
       "</style>\n",
       "<table border=\"1\" class=\"dataframe\">\n",
       "  <thead>\n",
       "    <tr style=\"text-align: right;\">\n",
       "      <th></th>\n",
       "      <th>test_tp</th>\n",
       "      <th>test_fp</th>\n",
       "      <th>test_fn</th>\n",
       "      <th>test_perc_id</th>\n",
       "      <th>test_ppv</th>\n",
       "      <th>test_fnr</th>\n",
       "      <th>test_fdr</th>\n",
       "      <th>query_name</th>\n",
       "      <th>key_name</th>\n",
       "    </tr>\n",
       "  </thead>\n",
       "  <tbody>\n",
       "    <tr>\n",
       "      <th>0</th>\n",
       "      <td>24</td>\n",
       "      <td>0</td>\n",
       "      <td>0</td>\n",
       "      <td>1.000000</td>\n",
       "      <td>1.000000</td>\n",
       "      <td>0.000000</td>\n",
       "      <td>0.000000</td>\n",
       "      <td>ZF-C2H2-SAMPLE18</td>\n",
       "      <td>ZF-C2H2-SAMPLE18</td>\n",
       "    </tr>\n",
       "    <tr>\n",
       "      <th>1</th>\n",
       "      <td>24</td>\n",
       "      <td>1</td>\n",
       "      <td>1</td>\n",
       "      <td>0.960000</td>\n",
       "      <td>0.960000</td>\n",
       "      <td>0.040000</td>\n",
       "      <td>0.040000</td>\n",
       "      <td>ZF-C2H2-SAMPLE1</td>\n",
       "      <td>ZF-C2H2-SAMPLE9</td>\n",
       "    </tr>\n",
       "    <tr>\n",
       "      <th>2</th>\n",
       "      <td>23</td>\n",
       "      <td>0</td>\n",
       "      <td>0</td>\n",
       "      <td>1.000000</td>\n",
       "      <td>1.000000</td>\n",
       "      <td>0.000000</td>\n",
       "      <td>0.000000</td>\n",
       "      <td>ZF-C2H2-SAMPLE11</td>\n",
       "      <td>ZF-C2H2-SAMPLE36</td>\n",
       "    </tr>\n",
       "    <tr>\n",
       "      <th>3</th>\n",
       "      <td>24</td>\n",
       "      <td>5</td>\n",
       "      <td>5</td>\n",
       "      <td>0.827586</td>\n",
       "      <td>0.827586</td>\n",
       "      <td>0.172414</td>\n",
       "      <td>0.172414</td>\n",
       "      <td>ZF-C2H2-SAMPLE4</td>\n",
       "      <td>ZF-C2H2-SAMPLE23</td>\n",
       "    </tr>\n",
       "    <tr>\n",
       "      <th>4</th>\n",
       "      <td>23</td>\n",
       "      <td>6</td>\n",
       "      <td>6</td>\n",
       "      <td>0.793103</td>\n",
       "      <td>0.793103</td>\n",
       "      <td>0.206897</td>\n",
       "      <td>0.206897</td>\n",
       "      <td>ZF-C2H2-SAMPLE23</td>\n",
       "      <td>ZF-C2H2-SAMPLE5</td>\n",
       "    </tr>\n",
       "    <tr>\n",
       "      <th>0</th>\n",
       "      <td>25</td>\n",
       "      <td>1</td>\n",
       "      <td>1</td>\n",
       "      <td>0.961538</td>\n",
       "      <td>0.961538</td>\n",
       "      <td>0.038462</td>\n",
       "      <td>0.038462</td>\n",
       "      <td>ZF-C2H2-SAMPLE8</td>\n",
       "      <td>ZF-C2H2-SAMPLE2</td>\n",
       "    </tr>\n",
       "    <tr>\n",
       "      <th>1</th>\n",
       "      <td>24</td>\n",
       "      <td>2</td>\n",
       "      <td>2</td>\n",
       "      <td>0.923077</td>\n",
       "      <td>0.923077</td>\n",
       "      <td>0.076923</td>\n",
       "      <td>0.076923</td>\n",
       "      <td>ZF-C2H2-SAMPLE6</td>\n",
       "      <td>ZF-C2H2-SAMPLE20</td>\n",
       "    </tr>\n",
       "    <tr>\n",
       "      <th>2</th>\n",
       "      <td>23</td>\n",
       "      <td>4</td>\n",
       "      <td>1</td>\n",
       "      <td>0.958333</td>\n",
       "      <td>0.851852</td>\n",
       "      <td>0.041667</td>\n",
       "      <td>0.148148</td>\n",
       "      <td>ZF-C2H2-SAMPLE15</td>\n",
       "      <td>ZF-C2H2-SAMPLE35</td>\n",
       "    </tr>\n",
       "    <tr>\n",
       "      <th>3</th>\n",
       "      <td>24</td>\n",
       "      <td>0</td>\n",
       "      <td>0</td>\n",
       "      <td>1.000000</td>\n",
       "      <td>1.000000</td>\n",
       "      <td>0.000000</td>\n",
       "      <td>0.000000</td>\n",
       "      <td>ZF-C2H2-SAMPLE3</td>\n",
       "      <td>ZF-C2H2-SAMPLE28</td>\n",
       "    </tr>\n",
       "    <tr>\n",
       "      <th>4</th>\n",
       "      <td>25</td>\n",
       "      <td>0</td>\n",
       "      <td>0</td>\n",
       "      <td>1.000000</td>\n",
       "      <td>1.000000</td>\n",
       "      <td>0.000000</td>\n",
       "      <td>0.000000</td>\n",
       "      <td>ZF-C2H2-SAMPLE10</td>\n",
       "      <td>ZF-C2H2-SAMPLE30</td>\n",
       "    </tr>\n",
       "    <tr>\n",
       "      <th>0</th>\n",
       "      <td>25</td>\n",
       "      <td>1</td>\n",
       "      <td>1</td>\n",
       "      <td>0.961538</td>\n",
       "      <td>0.961538</td>\n",
       "      <td>0.038462</td>\n",
       "      <td>0.038462</td>\n",
       "      <td>ZF-C2H2-SAMPLE10</td>\n",
       "      <td>ZF-C2H2-SAMPLE29</td>\n",
       "    </tr>\n",
       "    <tr>\n",
       "      <th>1</th>\n",
       "      <td>24</td>\n",
       "      <td>0</td>\n",
       "      <td>0</td>\n",
       "      <td>1.000000</td>\n",
       "      <td>1.000000</td>\n",
       "      <td>0.000000</td>\n",
       "      <td>0.000000</td>\n",
       "      <td>ZF-C2H2-SAMPLE14</td>\n",
       "      <td>ZF-C2H2-SAMPLE35</td>\n",
       "    </tr>\n",
       "    <tr>\n",
       "      <th>2</th>\n",
       "      <td>23</td>\n",
       "      <td>1</td>\n",
       "      <td>1</td>\n",
       "      <td>0.958333</td>\n",
       "      <td>0.958333</td>\n",
       "      <td>0.041667</td>\n",
       "      <td>0.041667</td>\n",
       "      <td>ZF-C2H2-SAMPLE7</td>\n",
       "      <td>ZF-C2H2-SAMPLE22</td>\n",
       "    </tr>\n",
       "    <tr>\n",
       "      <th>3</th>\n",
       "      <td>25</td>\n",
       "      <td>2</td>\n",
       "      <td>2</td>\n",
       "      <td>0.925926</td>\n",
       "      <td>0.925926</td>\n",
       "      <td>0.074074</td>\n",
       "      <td>0.074074</td>\n",
       "      <td>ZF-C2H2-SAMPLE34</td>\n",
       "      <td>ZF-C2H2-SAMPLE26</td>\n",
       "    </tr>\n",
       "    <tr>\n",
       "      <th>4</th>\n",
       "      <td>24</td>\n",
       "      <td>1</td>\n",
       "      <td>1</td>\n",
       "      <td>0.960000</td>\n",
       "      <td>0.960000</td>\n",
       "      <td>0.040000</td>\n",
       "      <td>0.040000</td>\n",
       "      <td>ZF-C2H2-SAMPLE12</td>\n",
       "      <td>ZF-C2H2-SAMPLE7</td>\n",
       "    </tr>\n",
       "    <tr>\n",
       "      <th>0</th>\n",
       "      <td>25</td>\n",
       "      <td>1</td>\n",
       "      <td>1</td>\n",
       "      <td>0.961538</td>\n",
       "      <td>0.961538</td>\n",
       "      <td>0.038462</td>\n",
       "      <td>0.038462</td>\n",
       "      <td>ZF-C2H2-SAMPLE36</td>\n",
       "      <td>ZF-C2H2-SAMPLE32</td>\n",
       "    </tr>\n",
       "    <tr>\n",
       "      <th>1</th>\n",
       "      <td>23</td>\n",
       "      <td>0</td>\n",
       "      <td>0</td>\n",
       "      <td>1.000000</td>\n",
       "      <td>1.000000</td>\n",
       "      <td>0.000000</td>\n",
       "      <td>0.000000</td>\n",
       "      <td>ZF-C2H2-SAMPLE17</td>\n",
       "      <td>ZF-C2H2-SAMPLE22</td>\n",
       "    </tr>\n",
       "    <tr>\n",
       "      <th>2</th>\n",
       "      <td>24</td>\n",
       "      <td>1</td>\n",
       "      <td>1</td>\n",
       "      <td>0.960000</td>\n",
       "      <td>0.960000</td>\n",
       "      <td>0.040000</td>\n",
       "      <td>0.040000</td>\n",
       "      <td>ZF-C2H2-SAMPLE10</td>\n",
       "      <td>ZF-C2H2-SAMPLE17</td>\n",
       "    </tr>\n",
       "    <tr>\n",
       "      <th>3</th>\n",
       "      <td>26</td>\n",
       "      <td>1</td>\n",
       "      <td>1</td>\n",
       "      <td>0.962963</td>\n",
       "      <td>0.962963</td>\n",
       "      <td>0.037037</td>\n",
       "      <td>0.037037</td>\n",
       "      <td>ZF-C2H2-SAMPLE26</td>\n",
       "      <td>ZF-C2H2-SAMPLE2</td>\n",
       "    </tr>\n",
       "    <tr>\n",
       "      <th>4</th>\n",
       "      <td>26</td>\n",
       "      <td>5</td>\n",
       "      <td>4</td>\n",
       "      <td>0.866667</td>\n",
       "      <td>0.838710</td>\n",
       "      <td>0.133333</td>\n",
       "      <td>0.161290</td>\n",
       "      <td>ZF-C2H2-SAMPLE24</td>\n",
       "      <td>ZF-C2H2-SAMPLE9</td>\n",
       "    </tr>\n",
       "  </tbody>\n",
       "</table>\n",
       "</div>"
      ],
      "text/plain": [
       "   test_tp  test_fp  test_fn  test_perc_id  test_ppv  test_fnr  test_fdr  \\\n",
       "0       24        0        0      1.000000  1.000000  0.000000  0.000000   \n",
       "1       24        1        1      0.960000  0.960000  0.040000  0.040000   \n",
       "2       23        0        0      1.000000  1.000000  0.000000  0.000000   \n",
       "3       24        5        5      0.827586  0.827586  0.172414  0.172414   \n",
       "4       23        6        6      0.793103  0.793103  0.206897  0.206897   \n",
       "0       25        1        1      0.961538  0.961538  0.038462  0.038462   \n",
       "1       24        2        2      0.923077  0.923077  0.076923  0.076923   \n",
       "2       23        4        1      0.958333  0.851852  0.041667  0.148148   \n",
       "3       24        0        0      1.000000  1.000000  0.000000  0.000000   \n",
       "4       25        0        0      1.000000  1.000000  0.000000  0.000000   \n",
       "0       25        1        1      0.961538  0.961538  0.038462  0.038462   \n",
       "1       24        0        0      1.000000  1.000000  0.000000  0.000000   \n",
       "2       23        1        1      0.958333  0.958333  0.041667  0.041667   \n",
       "3       25        2        2      0.925926  0.925926  0.074074  0.074074   \n",
       "4       24        1        1      0.960000  0.960000  0.040000  0.040000   \n",
       "0       25        1        1      0.961538  0.961538  0.038462  0.038462   \n",
       "1       23        0        0      1.000000  1.000000  0.000000  0.000000   \n",
       "2       24        1        1      0.960000  0.960000  0.040000  0.040000   \n",
       "3       26        1        1      0.962963  0.962963  0.037037  0.037037   \n",
       "4       26        5        4      0.866667  0.838710  0.133333  0.161290   \n",
       "\n",
       "         query_name          key_name  \n",
       "0  ZF-C2H2-SAMPLE18  ZF-C2H2-SAMPLE18  \n",
       "1   ZF-C2H2-SAMPLE1   ZF-C2H2-SAMPLE9  \n",
       "2  ZF-C2H2-SAMPLE11  ZF-C2H2-SAMPLE36  \n",
       "3   ZF-C2H2-SAMPLE4  ZF-C2H2-SAMPLE23  \n",
       "4  ZF-C2H2-SAMPLE23   ZF-C2H2-SAMPLE5  \n",
       "0   ZF-C2H2-SAMPLE8   ZF-C2H2-SAMPLE2  \n",
       "1   ZF-C2H2-SAMPLE6  ZF-C2H2-SAMPLE20  \n",
       "2  ZF-C2H2-SAMPLE15  ZF-C2H2-SAMPLE35  \n",
       "3   ZF-C2H2-SAMPLE3  ZF-C2H2-SAMPLE28  \n",
       "4  ZF-C2H2-SAMPLE10  ZF-C2H2-SAMPLE30  \n",
       "0  ZF-C2H2-SAMPLE10  ZF-C2H2-SAMPLE29  \n",
       "1  ZF-C2H2-SAMPLE14  ZF-C2H2-SAMPLE35  \n",
       "2   ZF-C2H2-SAMPLE7  ZF-C2H2-SAMPLE22  \n",
       "3  ZF-C2H2-SAMPLE34  ZF-C2H2-SAMPLE26  \n",
       "4  ZF-C2H2-SAMPLE12   ZF-C2H2-SAMPLE7  \n",
       "0  ZF-C2H2-SAMPLE36  ZF-C2H2-SAMPLE32  \n",
       "1  ZF-C2H2-SAMPLE17  ZF-C2H2-SAMPLE22  \n",
       "2  ZF-C2H2-SAMPLE10  ZF-C2H2-SAMPLE17  \n",
       "3  ZF-C2H2-SAMPLE26   ZF-C2H2-SAMPLE2  \n",
       "4  ZF-C2H2-SAMPLE24   ZF-C2H2-SAMPLE9  "
      ]
     },
     "execution_count": 13,
     "metadata": {},
     "output_type": "execute_result"
    }
   ],
   "source": [
    "import pandas as pd\n",
    "x = list(map(pd.DataFrame, res))\n",
    "pd.concat(x, axis=0)"
   ]
  },
  {
   "cell_type": "markdown",
   "metadata": {},
   "source": [
    "The model diagnostics can be directly visualized in Tensorboard. Here, we show the losses, the accuracy and the alignment results."
   ]
  },
  {
   "cell_type": "code",
<<<<<<< HEAD
   "execution_count": 14,
=======
   "execution_count": 10,
>>>>>>> 7d0a30faa882873d4179ed2efd66d52844f2ef0a
   "metadata": {},
   "outputs": [
    {
     "name": "stdout",
     "output_type": "stream",
     "text": [
<<<<<<< HEAD
      "version_0   version_13\tversion_18  version_22\tversion_3  version_8\r\n",
      "version_1   version_14\tversion_19  version_23\tversion_4  version_9\r\n",
      "version_10  version_15\tversion_2   version_24\tversion_5\r\n",
      "version_11  version_16\tversion_20  version_25\tversion_6\r\n",
      "version_12  version_17\tversion_21  version_26\tversion_7\r\n"
=======
      "version_0   version_13\tversion_18  version_22\tversion_27  version_5\r\n",
      "version_1   version_14\tversion_19  version_23\tversion_28  version_6\r\n",
      "version_10  version_15\tversion_2   version_24\tversion_29  version_7\r\n",
      "version_11  version_16\tversion_20  version_25\tversion_3   version_8\r\n",
      "version_12  version_17\tversion_21  version_26\tversion_4   version_9\r\n"
>>>>>>> 7d0a30faa882873d4179ed2efd66d52844f2ef0a
     ]
    }
   ],
   "source": [
    "!ls lightning_logs"
   ]
  },
  {
   "cell_type": "code",
<<<<<<< HEAD
   "execution_count": 15,
=======
   "execution_count": 16,
>>>>>>> 7d0a30faa882873d4179ed2efd66d52844f2ef0a
   "metadata": {},
   "outputs": [
    {
     "name": "stdout",
     "output_type": "stream",
     "text": [
      "The tensorboard extension is already loaded. To reload it, use:\n",
      "  %reload_ext tensorboard\n"
     ]
    }
   ],
   "source": [
    "%load_ext tensorboard"
   ]
  },
  {
   "cell_type": "code",
<<<<<<< HEAD
   "execution_count": 16,
=======
   "execution_count": 17,
>>>>>>> 7d0a30faa882873d4179ed2efd66d52844f2ef0a
   "metadata": {
    "scrolled": false
   },
   "outputs": [
    {
     "data": {
<<<<<<< HEAD
      "text/html": [
       "\n",
       "      <iframe id=\"tensorboard-frame-1df49c8987be2bc7\" width=\"100%\" height=\"800\" frameborder=\"0\">\n",
       "      </iframe>\n",
       "      <script>\n",
       "        (function() {\n",
       "          const frame = document.getElementById(\"tensorboard-frame-1df49c8987be2bc7\");\n",
       "          const url = new URL(\"/\", window.location);\n",
       "          url.port = 6006;\n",
=======
      "text/plain": [
       "Reusing TensorBoard on port 6007 (pid 72107), started 1:58:10 ago. (Use '!kill 72107' to kill it.)"
      ]
     },
     "metadata": {},
     "output_type": "display_data"
    },
    {
     "data": {
      "text/html": [
       "\n",
       "      <iframe id=\"tensorboard-frame-2d55b7eca22845e3\" width=\"100%\" height=\"800\" frameborder=\"0\">\n",
       "      </iframe>\n",
       "      <script>\n",
       "        (function() {\n",
       "          const frame = document.getElementById(\"tensorboard-frame-2d55b7eca22845e3\");\n",
       "          const url = new URL(\"/\", window.location);\n",
       "          url.port = 6007;\n",
>>>>>>> 7d0a30faa882873d4179ed2efd66d52844f2ef0a
       "          frame.src = url;\n",
       "        })();\n",
       "      </script>\n",
       "  "
      ],
      "text/plain": [
       "<IPython.core.display.HTML object>"
      ]
     },
     "metadata": {},
     "output_type": "display_data"
    }
   ],
   "source": [
    "%tensorboard --logdir lightning_logs"
   ]
  },
  {
   "cell_type": "markdown",
   "metadata": {},
   "source": [
    "And we did this with just a few million parameters"
   ]
  },
  {
   "cell_type": "code",
<<<<<<< HEAD
   "execution_count": 17,
=======
   "execution_count": 13,
>>>>>>> 7d0a30faa882873d4179ed2efd66d52844f2ef0a
   "metadata": {},
   "outputs": [
    {
     "data": {
      "text/plain": [
       "NeedlemanWunschAligner(\n",
       "  (lm): BiLM(\n",
       "    (embed): Embedding(22, 21, padding_idx=21)\n",
       "    (dropout): Dropout(p=0, inplace=False)\n",
       "    (rnn): ModuleList(\n",
       "      (0): LSTM(21, 1024, batch_first=True)\n",
       "      (1): LSTM(1024, 1024, batch_first=True)\n",
       "    )\n",
       "    (linear): Linear(in_features=1024, out_features=21, bias=True)\n",
       "  )\n",
       "  (match_embedding): StackedRNN(\n",
       "    (embed): Embedding(21, 512, padding_idx=20)\n",
       "    (dropout): Dropout(p=0, inplace=False)\n",
       "    (rnn): LSTM(512, 512, num_layers=2, batch_first=True, bidirectional=True)\n",
       "    (proj): Linear(in_features=1024, out_features=512, bias=True)\n",
       "  )\n",
       "  (gap_embedding): StackedRNN(\n",
       "    (embed): Embedding(21, 512, padding_idx=20)\n",
       "    (dropout): Dropout(p=0, inplace=False)\n",
       "    (rnn): LSTM(512, 512, num_layers=2, batch_first=True, bidirectional=True)\n",
       "    (proj): Linear(in_features=1024, out_features=512, bias=True)\n",
       "  )\n",
       "  (nw): NeedlemanWunschDecoder()\n",
       ")"
      ]
     },
<<<<<<< HEAD
     "execution_count": 17,
=======
     "execution_count": 13,
>>>>>>> 7d0a30faa882873d4179ed2efd66d52844f2ef0a
     "metadata": {},
     "output_type": "execute_result"
    }
   ],
   "source": [
    "model.aligner"
   ]
  },
  {
   "cell_type": "code",
   "execution_count": 18,
   "metadata": {},
   "outputs": [
    {
     "name": "stdout",
     "output_type": "stream",
     "text": [
<<<<<<< HEAD
      "'epoch=19.ckpt'\r\n"
=======
      "'epoch=25.ckpt'\r\n"
>>>>>>> 7d0a30faa882873d4179ed2efd66d52844f2ef0a
     ]
    }
   ],
   "source": [
    "!ls lightning_logs/version_29/checkpoints"
   ]
  },
  {
   "cell_type": "code",
   "execution_count": 19,
   "metadata": {},
   "outputs": [
    {
     "ename": "FileNotFoundError",
     "evalue": "[Errno 2] No such file or directory: 'lightning_logs/version_70/checkpoints/epoch=59.ckpt'",
     "output_type": "error",
     "traceback": [
      "\u001b[0;31m---------------------------------------------------------------------------\u001b[0m",
      "\u001b[0;31mFileNotFoundError\u001b[0m                         Traceback (most recent call last)",
      "\u001b[0;32m<ipython-input-19-eee514f31fae>\u001b[0m in \u001b[0;36m<module>\u001b[0;34m\u001b[0m\n\u001b[1;32m      2\u001b[0m \u001b[0mcheckpoint_dir\u001b[0m \u001b[0;34m=\u001b[0m \u001b[0;34m'lightning_logs/version_70/checkpoints'\u001b[0m\u001b[0;34m\u001b[0m\u001b[0;34m\u001b[0m\u001b[0m\n\u001b[1;32m      3\u001b[0m \u001b[0mpath\u001b[0m \u001b[0;34m=\u001b[0m \u001b[0;34mf'{checkpoint_dir}/epoch=59.ckpt'\u001b[0m\u001b[0;34m\u001b[0m\u001b[0;34m\u001b[0m\u001b[0m\n\u001b[0;32m----> 4\u001b[0;31m \u001b[0mmodel\u001b[0m \u001b[0;34m=\u001b[0m \u001b[0mLightningAligner\u001b[0m\u001b[0;34m.\u001b[0m\u001b[0mload_from_checkpoint\u001b[0m\u001b[0;34m(\u001b[0m\u001b[0mpath\u001b[0m\u001b[0;34m)\u001b[0m\u001b[0;34m\u001b[0m\u001b[0;34m\u001b[0m\u001b[0m\n\u001b[0m",
      "\u001b[0;32m~/miniconda3/envs/pytorch/lib/python3.8/site-packages/pytorch_lightning/core/saving.py\u001b[0m in \u001b[0;36mload_from_checkpoint\u001b[0;34m(cls, checkpoint_path, map_location, hparams_file, strict, *args, **kwargs)\u001b[0m\n\u001b[1;32m    129\u001b[0m             \u001b[0mcheckpoint\u001b[0m \u001b[0;34m=\u001b[0m \u001b[0mpl_load\u001b[0m\u001b[0;34m(\u001b[0m\u001b[0mcheckpoint_path\u001b[0m\u001b[0;34m,\u001b[0m \u001b[0mmap_location\u001b[0m\u001b[0;34m=\u001b[0m\u001b[0mmap_location\u001b[0m\u001b[0;34m)\u001b[0m\u001b[0;34m\u001b[0m\u001b[0;34m\u001b[0m\u001b[0m\n\u001b[1;32m    130\u001b[0m         \u001b[0;32melse\u001b[0m\u001b[0;34m:\u001b[0m\u001b[0;34m\u001b[0m\u001b[0;34m\u001b[0m\u001b[0m\n\u001b[0;32m--> 131\u001b[0;31m             \u001b[0mcheckpoint\u001b[0m \u001b[0;34m=\u001b[0m \u001b[0mpl_load\u001b[0m\u001b[0;34m(\u001b[0m\u001b[0mcheckpoint_path\u001b[0m\u001b[0;34m,\u001b[0m \u001b[0mmap_location\u001b[0m\u001b[0;34m=\u001b[0m\u001b[0;32mlambda\u001b[0m \u001b[0mstorage\u001b[0m\u001b[0;34m,\u001b[0m \u001b[0mloc\u001b[0m\u001b[0;34m:\u001b[0m \u001b[0mstorage\u001b[0m\u001b[0;34m)\u001b[0m\u001b[0;34m\u001b[0m\u001b[0;34m\u001b[0m\u001b[0m\n\u001b[0m\u001b[1;32m    132\u001b[0m \u001b[0;34m\u001b[0m\u001b[0m\n\u001b[1;32m    133\u001b[0m         \u001b[0;32mif\u001b[0m \u001b[0mhparams_file\u001b[0m \u001b[0;32mis\u001b[0m \u001b[0;32mnot\u001b[0m \u001b[0;32mNone\u001b[0m\u001b[0;34m:\u001b[0m\u001b[0;34m\u001b[0m\u001b[0;34m\u001b[0m\u001b[0m\n",
      "\u001b[0;32m~/miniconda3/envs/pytorch/lib/python3.8/site-packages/pytorch_lightning/utilities/cloud_io.py\u001b[0m in \u001b[0;36mload\u001b[0;34m(path_or_url, map_location)\u001b[0m\n\u001b[1;32m     41\u001b[0m \u001b[0;32mdef\u001b[0m \u001b[0mload\u001b[0m\u001b[0;34m(\u001b[0m\u001b[0mpath_or_url\u001b[0m\u001b[0;34m:\u001b[0m \u001b[0mstr\u001b[0m\u001b[0;34m,\u001b[0m \u001b[0mmap_location\u001b[0m\u001b[0;34m=\u001b[0m\u001b[0;32mNone\u001b[0m\u001b[0;34m)\u001b[0m\u001b[0;34m:\u001b[0m\u001b[0;34m\u001b[0m\u001b[0;34m\u001b[0m\u001b[0m\n\u001b[1;32m     42\u001b[0m     \u001b[0;32mif\u001b[0m \u001b[0murlparse\u001b[0m\u001b[0;34m(\u001b[0m\u001b[0mpath_or_url\u001b[0m\u001b[0;34m)\u001b[0m\u001b[0;34m.\u001b[0m\u001b[0mscheme\u001b[0m \u001b[0;34m==\u001b[0m \u001b[0;34m''\u001b[0m \u001b[0;32mor\u001b[0m \u001b[0mPath\u001b[0m\u001b[0;34m(\u001b[0m\u001b[0mpath_or_url\u001b[0m\u001b[0;34m)\u001b[0m\u001b[0;34m.\u001b[0m\u001b[0mdrive\u001b[0m\u001b[0;34m:\u001b[0m  \u001b[0;31m# no scheme or with a drive letter\u001b[0m\u001b[0;34m\u001b[0m\u001b[0;34m\u001b[0m\u001b[0m\n\u001b[0;32m---> 43\u001b[0;31m         \u001b[0;32mreturn\u001b[0m \u001b[0mtorch\u001b[0m\u001b[0;34m.\u001b[0m\u001b[0mload\u001b[0m\u001b[0;34m(\u001b[0m\u001b[0mpath_or_url\u001b[0m\u001b[0;34m,\u001b[0m \u001b[0mmap_location\u001b[0m\u001b[0;34m=\u001b[0m\u001b[0mmap_location\u001b[0m\u001b[0;34m)\u001b[0m\u001b[0;34m\u001b[0m\u001b[0;34m\u001b[0m\u001b[0m\n\u001b[0m\u001b[1;32m     44\u001b[0m     \u001b[0;32mreturn\u001b[0m \u001b[0mtorch\u001b[0m\u001b[0;34m.\u001b[0m\u001b[0mhub\u001b[0m\u001b[0;34m.\u001b[0m\u001b[0mload_state_dict_from_url\u001b[0m\u001b[0;34m(\u001b[0m\u001b[0mpath_or_url\u001b[0m\u001b[0;34m,\u001b[0m \u001b[0mmap_location\u001b[0m\u001b[0;34m=\u001b[0m\u001b[0mmap_location\u001b[0m\u001b[0;34m)\u001b[0m\u001b[0;34m\u001b[0m\u001b[0;34m\u001b[0m\u001b[0m\n\u001b[1;32m     45\u001b[0m \u001b[0;34m\u001b[0m\u001b[0m\n",
      "\u001b[0;32m~/miniconda3/envs/pytorch/lib/python3.8/site-packages/torch/serialization.py\u001b[0m in \u001b[0;36mload\u001b[0;34m(f, map_location, pickle_module, **pickle_load_args)\u001b[0m\n\u001b[1;32m    523\u001b[0m         \u001b[0mpickle_load_args\u001b[0m\u001b[0;34m[\u001b[0m\u001b[0;34m'encoding'\u001b[0m\u001b[0;34m]\u001b[0m \u001b[0;34m=\u001b[0m \u001b[0;34m'utf-8'\u001b[0m\u001b[0;34m\u001b[0m\u001b[0;34m\u001b[0m\u001b[0m\n\u001b[1;32m    524\u001b[0m \u001b[0;34m\u001b[0m\u001b[0m\n\u001b[0;32m--> 525\u001b[0;31m     \u001b[0;32mwith\u001b[0m \u001b[0m_open_file_like\u001b[0m\u001b[0;34m(\u001b[0m\u001b[0mf\u001b[0m\u001b[0;34m,\u001b[0m \u001b[0;34m'rb'\u001b[0m\u001b[0;34m)\u001b[0m \u001b[0;32mas\u001b[0m \u001b[0mopened_file\u001b[0m\u001b[0;34m:\u001b[0m\u001b[0;34m\u001b[0m\u001b[0;34m\u001b[0m\u001b[0m\n\u001b[0m\u001b[1;32m    526\u001b[0m         \u001b[0;32mif\u001b[0m \u001b[0m_is_zipfile\u001b[0m\u001b[0;34m(\u001b[0m\u001b[0mopened_file\u001b[0m\u001b[0;34m)\u001b[0m\u001b[0;34m:\u001b[0m\u001b[0;34m\u001b[0m\u001b[0;34m\u001b[0m\u001b[0m\n\u001b[1;32m    527\u001b[0m             \u001b[0;32mwith\u001b[0m \u001b[0m_open_zipfile_reader\u001b[0m\u001b[0;34m(\u001b[0m\u001b[0mf\u001b[0m\u001b[0;34m)\u001b[0m \u001b[0;32mas\u001b[0m \u001b[0mopened_zipfile\u001b[0m\u001b[0;34m:\u001b[0m\u001b[0;34m\u001b[0m\u001b[0;34m\u001b[0m\u001b[0m\n",
      "\u001b[0;32m~/miniconda3/envs/pytorch/lib/python3.8/site-packages/torch/serialization.py\u001b[0m in \u001b[0;36m_open_file_like\u001b[0;34m(name_or_buffer, mode)\u001b[0m\n\u001b[1;32m    210\u001b[0m \u001b[0;32mdef\u001b[0m \u001b[0m_open_file_like\u001b[0m\u001b[0;34m(\u001b[0m\u001b[0mname_or_buffer\u001b[0m\u001b[0;34m,\u001b[0m \u001b[0mmode\u001b[0m\u001b[0;34m)\u001b[0m\u001b[0;34m:\u001b[0m\u001b[0;34m\u001b[0m\u001b[0;34m\u001b[0m\u001b[0m\n\u001b[1;32m    211\u001b[0m     \u001b[0;32mif\u001b[0m \u001b[0m_is_path\u001b[0m\u001b[0;34m(\u001b[0m\u001b[0mname_or_buffer\u001b[0m\u001b[0;34m)\u001b[0m\u001b[0;34m:\u001b[0m\u001b[0;34m\u001b[0m\u001b[0;34m\u001b[0m\u001b[0m\n\u001b[0;32m--> 212\u001b[0;31m         \u001b[0;32mreturn\u001b[0m \u001b[0m_open_file\u001b[0m\u001b[0;34m(\u001b[0m\u001b[0mname_or_buffer\u001b[0m\u001b[0;34m,\u001b[0m \u001b[0mmode\u001b[0m\u001b[0;34m)\u001b[0m\u001b[0;34m\u001b[0m\u001b[0;34m\u001b[0m\u001b[0m\n\u001b[0m\u001b[1;32m    213\u001b[0m     \u001b[0;32melse\u001b[0m\u001b[0;34m:\u001b[0m\u001b[0;34m\u001b[0m\u001b[0;34m\u001b[0m\u001b[0m\n\u001b[1;32m    214\u001b[0m         \u001b[0;32mif\u001b[0m \u001b[0;34m'w'\u001b[0m \u001b[0;32min\u001b[0m \u001b[0mmode\u001b[0m\u001b[0;34m:\u001b[0m\u001b[0;34m\u001b[0m\u001b[0;34m\u001b[0m\u001b[0m\n",
      "\u001b[0;32m~/miniconda3/envs/pytorch/lib/python3.8/site-packages/torch/serialization.py\u001b[0m in \u001b[0;36m__init__\u001b[0;34m(self, name, mode)\u001b[0m\n\u001b[1;32m    191\u001b[0m \u001b[0;32mclass\u001b[0m \u001b[0m_open_file\u001b[0m\u001b[0;34m(\u001b[0m\u001b[0m_opener\u001b[0m\u001b[0;34m)\u001b[0m\u001b[0;34m:\u001b[0m\u001b[0;34m\u001b[0m\u001b[0;34m\u001b[0m\u001b[0m\n\u001b[1;32m    192\u001b[0m     \u001b[0;32mdef\u001b[0m \u001b[0m__init__\u001b[0m\u001b[0;34m(\u001b[0m\u001b[0mself\u001b[0m\u001b[0;34m,\u001b[0m \u001b[0mname\u001b[0m\u001b[0;34m,\u001b[0m \u001b[0mmode\u001b[0m\u001b[0;34m)\u001b[0m\u001b[0;34m:\u001b[0m\u001b[0;34m\u001b[0m\u001b[0;34m\u001b[0m\u001b[0m\n\u001b[0;32m--> 193\u001b[0;31m         \u001b[0msuper\u001b[0m\u001b[0;34m(\u001b[0m\u001b[0m_open_file\u001b[0m\u001b[0;34m,\u001b[0m \u001b[0mself\u001b[0m\u001b[0;34m)\u001b[0m\u001b[0;34m.\u001b[0m\u001b[0m__init__\u001b[0m\u001b[0;34m(\u001b[0m\u001b[0mopen\u001b[0m\u001b[0;34m(\u001b[0m\u001b[0mname\u001b[0m\u001b[0;34m,\u001b[0m \u001b[0mmode\u001b[0m\u001b[0;34m)\u001b[0m\u001b[0;34m)\u001b[0m\u001b[0;34m\u001b[0m\u001b[0;34m\u001b[0m\u001b[0m\n\u001b[0m\u001b[1;32m    194\u001b[0m \u001b[0;34m\u001b[0m\u001b[0m\n\u001b[1;32m    195\u001b[0m     \u001b[0;32mdef\u001b[0m \u001b[0m__exit__\u001b[0m\u001b[0;34m(\u001b[0m\u001b[0mself\u001b[0m\u001b[0;34m,\u001b[0m \u001b[0;34m*\u001b[0m\u001b[0margs\u001b[0m\u001b[0;34m)\u001b[0m\u001b[0;34m:\u001b[0m\u001b[0;34m\u001b[0m\u001b[0;34m\u001b[0m\u001b[0m\n",
      "\u001b[0;31mFileNotFoundError\u001b[0m: [Errno 2] No such file or directory: 'lightning_logs/version_70/checkpoints/epoch=59.ckpt'"
     ]
    }
   ],
   "source": [
    "from pytorch_lightning.callbacks.model_checkpoint import ModelCheckpoint\n",
    "checkpoint_dir = 'lightning_logs/version_29/checkpoints'\n",
    "path = f'{checkpoint_dir}/epoch=25.ckpt'\n",
    "model = LightningAligner.load_from_checkpoint(path)"
   ]
  },
  {
   "cell_type": "code",
   "execution_count": 20,
   "metadata": {},
   "outputs": [],
   "source": [
    "from deepblast.dataset.dataset import states2matrix, tmstate_f\n",
    "import numpy as np\n",
    "import torch\n",
    "from torch.nn.utils.rnn import pack_sequence\n",
    "import matplotlib.pyplot as plt\n",
    "import seaborn as sns"
   ]
  },
  {
   "cell_type": "code",
   "execution_count": 21,
   "metadata": {},
   "outputs": [],
   "source": [
    "i = 9\n",
    "test = align_df\n",
    "x = str.encode(test.iloc[i]['chain1'])\n",
    "y = str.encode(test.iloc[i]['chain2'])\n",
    "states = test.iloc[i]['alignment']\n",
    "x_ = torch.Tensor(model.tokenizer(x)).long().unsqueeze(0)\n",
    "y_ = torch.Tensor(model.tokenizer(y)).long().unsqueeze(0)\n",
    "x_ = pack_sequence(x_, enforce_sorted=False).cuda()\n",
    "y_ = pack_sequence(y_, enforce_sorted=False).cuda()\n",
    "states = list(map(tmstate_f, states))\n",
    "A = states2matrix(states)"
   ]
  },
  {
   "cell_type": "code",
   "execution_count": 22,
   "metadata": {},
   "outputs": [
    {
     "ename": "NameError",
     "evalue": "name 'y' is not defined",
     "output_type": "error",
     "traceback": [
      "\u001b[0;31m---------------------------------------------------------------------------\u001b[0m",
      "\u001b[0;31mNameError\u001b[0m                                 Traceback (most recent call last)",
      "\u001b[0;32m<ipython-input-22-29046d1e12ed>\u001b[0m in \u001b[0;36m<module>\u001b[0;34m\u001b[0m\n\u001b[1;32m      1\u001b[0m \u001b[0mmodel\u001b[0m \u001b[0;34m=\u001b[0m \u001b[0mmodel\u001b[0m\u001b[0;34m.\u001b[0m\u001b[0mcuda\u001b[0m\u001b[0;34m(\u001b[0m\u001b[0;34m)\u001b[0m\u001b[0;34m\u001b[0m\u001b[0;34m\u001b[0m\u001b[0m\n\u001b[0;32m----> 2\u001b[0;31m \u001b[0maln\u001b[0m\u001b[0;34m,\u001b[0m \u001b[0mtheta\u001b[0m\u001b[0;34m,\u001b[0m \u001b[0mgap\u001b[0m \u001b[0;34m=\u001b[0m \u001b[0mmodel\u001b[0m\u001b[0;34m.\u001b[0m\u001b[0mforward\u001b[0m\u001b[0;34m(\u001b[0m\u001b[0mx_\u001b[0m\u001b[0;34m,\u001b[0m \u001b[0my_\u001b[0m\u001b[0;34m)\u001b[0m\u001b[0;34m\u001b[0m\u001b[0;34m\u001b[0m\u001b[0m\n\u001b[0m",
      "\u001b[0;32m~/Documents/research/garfunkel/deepblast/trainer.py\u001b[0m in \u001b[0;36mforward\u001b[0;34m(self, x, order)\u001b[0m\n\u001b[1;32m     81\u001b[0m             \u001b[0mGap\u001b[0m \u001b[0mscoring\u001b[0m \u001b[0mmatrix\u001b[0m\u001b[0;34m\u001b[0m\u001b[0;34m\u001b[0m\u001b[0m\n\u001b[1;32m     82\u001b[0m         \"\"\"\n\u001b[0;32m---> 83\u001b[0;31m         \u001b[0maln\u001b[0m\u001b[0;34m,\u001b[0m \u001b[0mmu\u001b[0m\u001b[0;34m,\u001b[0m \u001b[0mg\u001b[0m \u001b[0;34m=\u001b[0m \u001b[0mself\u001b[0m\u001b[0;34m.\u001b[0m\u001b[0maligner\u001b[0m\u001b[0;34m.\u001b[0m\u001b[0mforward\u001b[0m\u001b[0;34m(\u001b[0m\u001b[0mx\u001b[0m\u001b[0;34m,\u001b[0m \u001b[0my\u001b[0m\u001b[0;34m)\u001b[0m\u001b[0;34m\u001b[0m\u001b[0;34m\u001b[0m\u001b[0m\n\u001b[0m\u001b[1;32m     84\u001b[0m         \u001b[0;32mreturn\u001b[0m \u001b[0maln\u001b[0m\u001b[0;34m,\u001b[0m \u001b[0mmu\u001b[0m\u001b[0;34m,\u001b[0m \u001b[0mg\u001b[0m\u001b[0;34m\u001b[0m\u001b[0;34m\u001b[0m\u001b[0m\n\u001b[1;32m     85\u001b[0m \u001b[0;34m\u001b[0m\u001b[0m\n",
      "\u001b[0;31mNameError\u001b[0m: name 'y' is not defined"
     ]
    }
   ],
   "source": [
    "model = model.cuda()\n",
    "aln, theta, gap = model.forward(x_, y_)"
   ]
  },
  {
   "cell_type": "code",
   "execution_count": 23,
   "metadata": {},
   "outputs": [
    {
     "ename": "NameError",
     "evalue": "name 'aln' is not defined",
     "output_type": "error",
     "traceback": [
      "\u001b[0;31m---------------------------------------------------------------------------\u001b[0m",
      "\u001b[0;31mNameError\u001b[0m                                 Traceback (most recent call last)",
      "\u001b[0;32m<ipython-input-23-dbe412a1727b>\u001b[0m in \u001b[0;36m<module>\u001b[0;34m\u001b[0m\n\u001b[1;32m      1\u001b[0m \u001b[0mfig\u001b[0m\u001b[0;34m,\u001b[0m \u001b[0max\u001b[0m \u001b[0;34m=\u001b[0m \u001b[0mplt\u001b[0m\u001b[0;34m.\u001b[0m\u001b[0msubplots\u001b[0m\u001b[0;34m(\u001b[0m\u001b[0;36m1\u001b[0m\u001b[0;34m,\u001b[0m \u001b[0;36m4\u001b[0m\u001b[0;34m,\u001b[0m \u001b[0mfigsize\u001b[0m\u001b[0;34m=\u001b[0m\u001b[0;34m(\u001b[0m\u001b[0;36m16\u001b[0m\u001b[0;34m,\u001b[0m \u001b[0;36m3\u001b[0m\u001b[0;34m)\u001b[0m\u001b[0;34m)\u001b[0m\u001b[0;34m\u001b[0m\u001b[0;34m\u001b[0m\u001b[0m\n\u001b[1;32m      2\u001b[0m \u001b[0msns\u001b[0m\u001b[0;34m.\u001b[0m\u001b[0mheatmap\u001b[0m\u001b[0;34m(\u001b[0m\u001b[0mA\u001b[0m\u001b[0;34m,\u001b[0m \u001b[0max\u001b[0m\u001b[0;34m=\u001b[0m\u001b[0max\u001b[0m\u001b[0;34m[\u001b[0m\u001b[0;36m0\u001b[0m\u001b[0;34m]\u001b[0m\u001b[0;34m)\u001b[0m\u001b[0;34m\u001b[0m\u001b[0;34m\u001b[0m\u001b[0m\n\u001b[0;32m----> 3\u001b[0;31m \u001b[0msns\u001b[0m\u001b[0;34m.\u001b[0m\u001b[0mheatmap\u001b[0m\u001b[0;34m(\u001b[0m\u001b[0maln\u001b[0m\u001b[0;34m.\u001b[0m\u001b[0mcpu\u001b[0m\u001b[0;34m(\u001b[0m\u001b[0;34m)\u001b[0m\u001b[0;34m.\u001b[0m\u001b[0mdetach\u001b[0m\u001b[0;34m(\u001b[0m\u001b[0;34m)\u001b[0m\u001b[0;34m.\u001b[0m\u001b[0mnumpy\u001b[0m\u001b[0;34m(\u001b[0m\u001b[0;34m)\u001b[0m\u001b[0;34m.\u001b[0m\u001b[0msqueeze\u001b[0m\u001b[0;34m(\u001b[0m\u001b[0;34m)\u001b[0m\u001b[0;34m,\u001b[0m \u001b[0max\u001b[0m\u001b[0;34m=\u001b[0m\u001b[0max\u001b[0m\u001b[0;34m[\u001b[0m\u001b[0;36m1\u001b[0m\u001b[0;34m]\u001b[0m\u001b[0;34m)\u001b[0m\u001b[0;34m\u001b[0m\u001b[0;34m\u001b[0m\u001b[0m\n\u001b[0m\u001b[1;32m      4\u001b[0m \u001b[0msns\u001b[0m\u001b[0;34m.\u001b[0m\u001b[0mheatmap\u001b[0m\u001b[0;34m(\u001b[0m\u001b[0mnp\u001b[0m\u001b[0;34m.\u001b[0m\u001b[0mlog\u001b[0m\u001b[0;34m(\u001b[0m\u001b[0mtheta\u001b[0m\u001b[0;34m.\u001b[0m\u001b[0mcpu\u001b[0m\u001b[0;34m(\u001b[0m\u001b[0;34m)\u001b[0m\u001b[0;34m.\u001b[0m\u001b[0mdetach\u001b[0m\u001b[0;34m(\u001b[0m\u001b[0;34m)\u001b[0m\u001b[0;34m.\u001b[0m\u001b[0mnumpy\u001b[0m\u001b[0;34m(\u001b[0m\u001b[0;34m)\u001b[0m\u001b[0;34m.\u001b[0m\u001b[0msqueeze\u001b[0m\u001b[0;34m(\u001b[0m\u001b[0;34m)\u001b[0m\u001b[0;34m)\u001b[0m\u001b[0;34m,\u001b[0m \u001b[0max\u001b[0m\u001b[0;34m=\u001b[0m\u001b[0max\u001b[0m\u001b[0;34m[\u001b[0m\u001b[0;36m2\u001b[0m\u001b[0;34m]\u001b[0m\u001b[0;34m)\u001b[0m\u001b[0;34m\u001b[0m\u001b[0;34m\u001b[0m\u001b[0m\n\u001b[1;32m      5\u001b[0m \u001b[0msns\u001b[0m\u001b[0;34m.\u001b[0m\u001b[0mheatmap\u001b[0m\u001b[0;34m(\u001b[0m\u001b[0mgap\u001b[0m\u001b[0;34m.\u001b[0m\u001b[0mcpu\u001b[0m\u001b[0;34m(\u001b[0m\u001b[0;34m)\u001b[0m\u001b[0;34m.\u001b[0m\u001b[0mdetach\u001b[0m\u001b[0;34m(\u001b[0m\u001b[0;34m)\u001b[0m\u001b[0;34m.\u001b[0m\u001b[0mnumpy\u001b[0m\u001b[0;34m(\u001b[0m\u001b[0;34m)\u001b[0m\u001b[0;34m.\u001b[0m\u001b[0msqueeze\u001b[0m\u001b[0;34m(\u001b[0m\u001b[0;34m)\u001b[0m\u001b[0;34m,\u001b[0m \u001b[0max\u001b[0m\u001b[0;34m=\u001b[0m\u001b[0max\u001b[0m\u001b[0;34m[\u001b[0m\u001b[0;36m3\u001b[0m\u001b[0;34m]\u001b[0m\u001b[0;34m)\u001b[0m\u001b[0;34m\u001b[0m\u001b[0;34m\u001b[0m\u001b[0m\n",
      "\u001b[0;31mNameError\u001b[0m: name 'aln' is not defined"
     ]
    },
    {
     "data": {
      "image/png": "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\n",
      "text/plain": [
       "<Figure size 1152x216 with 5 Axes>"
      ]
     },
     "metadata": {
      "needs_background": "light"
     },
     "output_type": "display_data"
    }
   ],
   "source": [
    "fig, ax = plt.subplots(1, 4, figsize=(16, 3))\n",
    "sns.heatmap(A, ax=ax[0])\n",
    "sns.heatmap(aln.cpu().detach().numpy().squeeze(), ax=ax[1])\n",
    "sns.heatmap(np.log(theta.cpu().detach().numpy().squeeze()), ax=ax[2])\n",
    "sns.heatmap(gap.cpu().detach().numpy().squeeze(), ax=ax[3])"
   ]
  },
  {
   "cell_type": "code",
   "execution_count": 24,
   "metadata": {},
   "outputs": [
    {
     "ename": "ImportError",
     "evalue": "cannot import name 'decode' from 'deepblast.dataset.dataset' (/home/juermieboop/Documents/research/garfunkel/deepblast/dataset/dataset.py)",
     "output_type": "error",
     "traceback": [
      "\u001b[0;31m---------------------------------------------------------------------------\u001b[0m",
      "\u001b[0;31mImportError\u001b[0m                               Traceback (most recent call last)",
      "\u001b[0;32m<ipython-input-24-4ee9b8ebbcab>\u001b[0m in \u001b[0;36m<module>\u001b[0;34m\u001b[0m\n\u001b[1;32m      1\u001b[0m \u001b[0;32mfrom\u001b[0m \u001b[0mdeepblast\u001b[0m\u001b[0;34m.\u001b[0m\u001b[0mdataset\u001b[0m\u001b[0;34m.\u001b[0m\u001b[0malphabet\u001b[0m \u001b[0;32mimport\u001b[0m \u001b[0mUniprot21\u001b[0m\u001b[0;34m\u001b[0m\u001b[0;34m\u001b[0m\u001b[0m\n\u001b[0;32m----> 2\u001b[0;31m \u001b[0;32mfrom\u001b[0m \u001b[0mdeepblast\u001b[0m\u001b[0;34m.\u001b[0m\u001b[0mdataset\u001b[0m\u001b[0;34m.\u001b[0m\u001b[0mdataset\u001b[0m \u001b[0;32mimport\u001b[0m \u001b[0mdecode\u001b[0m\u001b[0;34m\u001b[0m\u001b[0;34m\u001b[0m\u001b[0m\n\u001b[0m\u001b[1;32m      3\u001b[0m \u001b[0;32mfrom\u001b[0m \u001b[0mdeepblast\u001b[0m\u001b[0;34m.\u001b[0m\u001b[0mscore\u001b[0m \u001b[0;32mimport\u001b[0m \u001b[0malignment_text\u001b[0m\u001b[0;34m,\u001b[0m \u001b[0mroc_edges\u001b[0m\u001b[0;34m\u001b[0m\u001b[0;34m\u001b[0m\u001b[0m\n",
      "\u001b[0;31mImportError\u001b[0m: cannot import name 'decode' from 'deepblast.dataset.dataset' (/home/juermieboop/Documents/research/garfunkel/deepblast/dataset/dataset.py)"
     ]
    }
   ],
   "source": [
    "from deepblast.dataset.alphabet import Uniprot21\n",
    "from deepblast.dataset.dataset import decode\n",
    "from deepblast.score import alignment_text, roc_edges"
   ]
  },
  {
   "cell_type": "code",
   "execution_count": null,
   "metadata": {},
   "outputs": [],
   "source": [
    "from deepblast.dataset.dataset import states2edges\n",
    "\n",
    "#pred_edges = list(zip(pred_y, pred_x))\n",
    "pred_edges = states2edges(pred_states)\n",
    "true_edges = states2edges(truth_states)\n",
    "stats = roc_edges(true_edges, pred_edges)"
   ]
  },
  {
   "cell_type": "code",
   "execution_count": null,
   "metadata": {},
   "outputs": [],
   "source": [
    "gen = model.aligner.traceback(x_, y_)\n",
    "decoded, _ = next(gen)\n",
    "pred_x, pred_y, pred_states = list(zip(*decoded))\n",
    "pred_states = np.array(list(pred_states))\n",
    "truth_states = np.array(list(states))                    \n",
    "text = alignment_text(x.decode('utf-8'), y.decode('utf-8'), pred_states, truth_states, stats)"
   ]
  },
  {
   "cell_type": "code",
   "execution_count": null,
   "metadata": {},
   "outputs": [],
   "source": [
    "print(text)"
   ]
  },
  {
   "cell_type": "code",
   "execution_count": null,
   "metadata": {},
   "outputs": [],
   "source": [
    "px, py = zip(*pred_edges)\n",
    "tx, ty = zip(*true_edges)\n",
    "\n",
    "plt.plot(px, py, label='pred')\n",
    "plt.plot(tx, ty, label='truth')"
   ]
  },
  {
   "cell_type": "code",
   "execution_count": null,
   "metadata": {},
   "outputs": [],
   "source": [
    "from deepblast.dataset.dataset import state_diff_f\n",
    "def states2edges(states):\n",
    "    \"\"\" Converts state string to bipartite matching. \"\"\"\n",
    "    prev_s, next_s = states[:-1], states[1:]\n",
    "    transitions = list(zip(prev_s, next_s))\n",
    "    state_diffs = np.array(list(map(state_diff_f, transitions)))\n",
    "    coords = np.cumsum(state_diffs, axis=0).tolist()\n",
    "    coords = [(0, 0)] + list(map(tuple, coords))\n",
    "    return coords\n",
    "pe = states2edges(list(pred_states))\n",
    "te = states2edges(list(truth_states))"
   ]
  },
  {
   "cell_type": "code",
   "execution_count": null,
   "metadata": {},
   "outputs": [],
   "source": [
    "px, py = zip(*pe)\n",
    "tx, ty = zip(*te)\n",
    "\n",
    "plt.plot(px, py, label='pred')\n",
    "plt.plot(tx, ty, label='truth')"
   ]
  },
  {
   "cell_type": "code",
   "execution_count": null,
   "metadata": {},
   "outputs": [],
   "source": [
    "pe"
   ]
  },
  {
   "cell_type": "code",
   "execution_count": null,
   "metadata": {},
   "outputs": [],
   "source": [
    "te"
   ]
  },
  {
   "cell_type": "code",
   "execution_count": null,
   "metadata": {},
   "outputs": [],
   "source": [
    "truth_states"
   ]
  },
  {
   "cell_type": "code",
   "execution_count": null,
   "metadata": {},
   "outputs": [],
   "source": [
    "pred_states"
   ]
  },
  {
   "cell_type": "code",
   "execution_count": null,
   "metadata": {},
   "outputs": [],
   "source": []
  }
 ],
 "metadata": {
  "kernelspec": {
   "display_name": "Python 3",
   "language": "python",
   "name": "python3"
  },
  "language_info": {
   "codemirror_mode": {
    "name": "ipython",
    "version": 3
   },
   "file_extension": ".py",
   "mimetype": "text/x-python",
   "name": "python",
   "nbconvert_exporter": "python",
   "pygments_lexer": "ipython3",
   "version": "3.8.3"
  }
 },
 "nbformat": 4,
 "nbformat_minor": 4
}
